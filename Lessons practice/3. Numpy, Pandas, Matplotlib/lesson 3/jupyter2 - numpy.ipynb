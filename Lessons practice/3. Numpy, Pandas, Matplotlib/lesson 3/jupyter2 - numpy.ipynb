{
 "cells": [
  {
   "cell_type": "code",
   "execution_count": 1,
   "metadata": {},
   "outputs": [],
   "source": [
    "import time\n",
    "import numpy as np"
   ]
  },
  {
   "cell_type": "code",
   "execution_count": 2,
   "metadata": {},
   "outputs": [],
   "source": [
    "x = np.random.random(100000000)"
   ]
  },
  {
   "cell_type": "code",
   "execution_count": 3,
   "metadata": {},
   "outputs": [
    {
     "name": "stdout",
     "output_type": "stream",
     "text": [
      "40.8391649723053\n"
     ]
    }
   ],
   "source": [
    "t1 = time.time()\n",
    "sum(x)/len(x)\n",
    "print(time.time()-t1)"
   ]
  },
  {
   "cell_type": "code",
   "execution_count": 4,
   "metadata": {},
   "outputs": [
    {
     "name": "stdout",
     "output_type": "stream",
     "text": [
      "0.2108445167541504\n"
     ]
    }
   ],
   "source": [
    "t2 = time.time()\n",
    "np.mean(x)\n",
    "print(time.time()-t2)"
   ]
  },
  {
   "cell_type": "markdown",
   "metadata": {},
   "source": [
    "# numpy arrays"
   ]
  },
  {
   "cell_type": "code",
   "execution_count": 5,
   "metadata": {},
   "outputs": [
    {
     "name": "stdout",
     "output_type": "stream",
     "text": [
      "x =  [[1 2 3 4 5]\n",
      " [6 7 3 4 5]]\n"
     ]
    }
   ],
   "source": [
    "# We create a 1D ndarray that contains only integers\n",
    "x = np.array([[1, 2, 3, 4, 5],[6,7, 3, 4, 5]])\n",
    "\n",
    "# Let's print the ndarray we just created using the print() command\n",
    "print('x = ', x)"
   ]
  },
  {
   "cell_type": "code",
   "execution_count": 6,
   "metadata": {},
   "outputs": [
    {
     "name": "stdout",
     "output_type": "stream",
     "text": [
      "x has dimensions: (2, 5)\n",
      "x is an object of type: <class 'numpy.ndarray'>\n",
      "The elements in x are of type: int32\n"
     ]
    }
   ],
   "source": [
    "# We print information about x\n",
    "print('x has dimensions:', x.shape)\n",
    "print('x is an object of type:', type(x))\n",
    "print('The elements in x are of type:', x.dtype)"
   ]
  },
  {
   "cell_type": "code",
   "execution_count": 7,
   "metadata": {},
   "outputs": [
    {
     "name": "stdout",
     "output_type": "stream",
     "text": [
      "\n",
      "y =  ['Hello' 'World']\n",
      "\n",
      "y has dimensions: (2,)\n",
      "y is an object of type: <class 'numpy.ndarray'>\n",
      "The elements in y are of type: <U5\n"
     ]
    }
   ],
   "source": [
    "# We create a rank 1 ndarray that only contains strings\n",
    "y = np.array(['Hello', 'World'])\n",
    "\n",
    "# We print x\n",
    "print()\n",
    "print('y = ', y)\n",
    "print()\n",
    "\n",
    "# We print information about x\n",
    "print('y has dimensions:', y.shape)\n",
    "print('y is an object of type:', type(y))\n",
    "print('The elements in y are of type:', y.dtype)"
   ]
  },
  {
   "cell_type": "code",
   "execution_count": 8,
   "metadata": {},
   "outputs": [
    {
     "name": "stdout",
     "output_type": "stream",
     "text": [
      "\n",
      "Y = \n",
      " [[ 1  2  3]\n",
      " [ 4  5  6]\n",
      " [ 7  8  9]\n",
      " [10 11 12]]\n",
      "\n",
      "Y has dimensions: (4, 3)\n",
      "Y has a total of 12 elements\n",
      "Y is an object of type: <class 'numpy.ndarray'>\n",
      "The elements in Y are of type: int32\n"
     ]
    }
   ],
   "source": [
    "# We create a rank 2 ndarray that only contains integers\n",
    "Y = np.array([[1,2,3],[4,5,6],[7,8,9], [10,11,12]])\n",
    "\n",
    "# We print Y\n",
    "print()\n",
    "print('Y = \\n', Y)\n",
    "print()\n",
    "\n",
    "# We print information about Y\n",
    "print('Y has dimensions:', Y.shape)\n",
    "print('Y has a total of', Y.size, 'elements')\n",
    "print('Y is an object of type:', type(Y))\n",
    "print('The elements in Y are of type:', Y.dtype)"
   ]
  },
  {
   "cell_type": "code",
   "execution_count": 9,
   "metadata": {},
   "outputs": [
    {
     "name": "stdout",
     "output_type": "stream",
     "text": [
      "The elements in i are of type: int32\n",
      "The elements in o are of type: float64\n",
      "The elements in p are of type: <U32\n"
     ]
    }
   ],
   "source": [
    "# We create a rank 1 ndarray that contains integers\n",
    "i = np.array([1,2,3])\n",
    "\n",
    "# We create a rank 1 ndarray that contains floats\n",
    "o = np.array([1.0,2.0,3.0])\n",
    "\n",
    "# We create a rank 1 ndarray that contains integers and floats\n",
    "p = np.array([1, 2.5, 4,'lkjll'])\n",
    "\n",
    "# We print the dtype of each ndarray\n",
    "print('The elements in i are of type:', i.dtype)\n",
    "print('The elements in o are of type:', o.dtype)\n",
    "print('The elements in p are of type:', p.dtype)"
   ]
  },
  {
   "cell_type": "code",
   "execution_count": 10,
   "metadata": {},
   "outputs": [
    {
     "name": "stdout",
     "output_type": "stream",
     "text": [
      "\n",
      "xx =  [1.5 2.2 3.7 4.  5.9]\n",
      "\n",
      "[4609434218613702656 4612136378390124954 4615514078110652826\n",
      " 4616189618054758400 4618328827877759386]\n",
      "The elements in xx are of type: int64\n"
     ]
    }
   ],
   "source": [
    "xx = np.array([1.5, 2.2, 3.7, 4.0, 5.9], dtype = np.float64)\n",
    "\n",
    "# We print x\n",
    "print()\n",
    "print('xx = ', xx)\n",
    "print()\n",
    "xx.dtype = np.int64\n",
    "xx.dtype = np.float64\n",
    "xx.dtype = np.int64\n",
    "print(xx)\n",
    "# We print the dtype x\n",
    "print('The elements in xx are of type:', xx.dtype)"
   ]
  },
  {
   "cell_type": "code",
   "execution_count": 11,
   "metadata": {},
   "outputs": [],
   "source": [
    "# We create a rank 1 ndarray\n",
    "x = np.array([1, 2, 3, 4, 5])\n",
    "\n",
    "# We save x into the current directory as \n",
    "np.save('my_array', x)"
   ]
  },
  {
   "cell_type": "code",
   "execution_count": 12,
   "metadata": {},
   "outputs": [
    {
     "name": "stdout",
     "output_type": "stream",
     "text": [
      "\n",
      " yy =  [1 2 3 4 5]\n",
      "\n",
      " yy is an object type =  <class 'numpy.ndarray'>\n",
      "\n",
      " yy elemenets data type =  int32\n"
     ]
    }
   ],
   "source": [
    "yy = np.load('my_array.npy')\n",
    "print('\\n','yy = ',yy)\n",
    "print('\\n','yy is an object type = ',type(yy))\n",
    "print('\\n','yy elemenets data type = ',yy.dtype)\n"
   ]
  },
  {
   "cell_type": "code",
   "execution_count": 13,
   "metadata": {},
   "outputs": [
    {
     "name": "stdout",
     "output_type": "stream",
     "text": [
      "\n",
      "XX = \n",
      " [[0. 0. 0. 0.]\n",
      " [0. 0. 0. 0.]\n",
      " [0. 0. 0. 0.]]\n",
      "\n",
      "XX has dimensions: (3, 4)\n",
      "XX is an object of type: <class 'numpy.ndarray'>\n",
      "The elements in XX are of type: float64\n"
     ]
    }
   ],
   "source": [
    "# We create a 3 x 4 ndarray full of zeros. \n",
    "XX = np.zeros((3,4))\n",
    "\n",
    "# We print XX\n",
    "print()\n",
    "print('XX = \\n', XX)\n",
    "print()\n",
    "\n",
    "# We print information about XX\n",
    "print('XX has dimensions:', XX.shape)\n",
    "print('XX is an object of type:', type(XX))\n",
    "print('The elements in XX are of type:', XX.dtype)"
   ]
  },
  {
   "cell_type": "code",
   "execution_count": 14,
   "metadata": {},
   "outputs": [
    {
     "name": "stdout",
     "output_type": "stream",
     "text": [
      "\n",
      "YY = \n",
      " [[1 1]\n",
      " [1 1]\n",
      " [1 1]]\n",
      "\n",
      "YY has dimensions: (3, 2)\n",
      "YY is an object of type: <class 'numpy.ndarray'>\n",
      "The elements in YY are of type: int64\n"
     ]
    }
   ],
   "source": [
    "YY = np.ones((3,2),dtype = np.int64)\n",
    "\n",
    "# We print YY\n",
    "print()\n",
    "print('YY = \\n', YY)\n",
    "print()\n",
    "\n",
    "# We print information about YY\n",
    "print('YY has dimensions:', YY.shape)\n",
    "print('YY is an object of type:', type(YY))\n",
    "print('The elements in YY are of type:', YY.dtype) "
   ]
  },
  {
   "cell_type": "code",
   "execution_count": 15,
   "metadata": {},
   "outputs": [
    {
     "name": "stdout",
     "output_type": "stream",
     "text": [
      "\n",
      "xy = \n",
      " [[5. 5. 5.]\n",
      " [5. 5. 5.]]\n",
      "\n",
      "xy has dimensions: (2, 3)\n",
      "xy is an object of type: <class 'numpy.ndarray'>\n",
      "The elements in xy are of type: float64\n"
     ]
    }
   ],
   "source": [
    "# We create a 2 x 3 ndarray full of fives. \n",
    "xy = np.full((2,3), 5,dtype = np.float64) \n",
    "\n",
    "# We print zy\n",
    "print()\n",
    "print('xy = \\n', xy)\n",
    "print()\n",
    "\n",
    "# We print information about xy\n",
    "print('xy has dimensions:', xy.shape)\n",
    "print('xy is an object of type:', type(xy))\n",
    "print('The elements in xy are of type:', xy.dtype) "
   ]
  },
  {
   "cell_type": "code",
   "execution_count": 16,
   "metadata": {},
   "outputs": [
    {
     "name": "stdout",
     "output_type": "stream",
     "text": [
      "\n",
      "yX = \n",
      " [[1. 0. 0. 0. 0.]\n",
      " [0. 1. 0. 0. 0.]\n",
      " [0. 0. 1. 0. 0.]\n",
      " [0. 0. 0. 1. 0.]\n",
      " [0. 0. 0. 0. 1.]]\n",
      "\n",
      "\n",
      "yX*5 = \n",
      " [[5. 0. 0. 0. 0.]\n",
      " [0. 5. 0. 0. 0.]\n",
      " [0. 0. 5. 0. 0.]\n",
      " [0. 0. 0. 5. 0.]\n",
      " [0. 0. 0. 0. 5.]]\n",
      "\n",
      "yX has dimensions: (5, 5)\n",
      "yX is an object of type: <class 'numpy.ndarray'>\n",
      "The elements in yX are of type: float64\n"
     ]
    }
   ],
   "source": [
    "yX = np.eye(5)\n",
    "\n",
    "# We print yX\n",
    "print()\n",
    "print('yX = \\n', yX)\n",
    "print()\n",
    "\n",
    "# We print yX*5\n",
    "print()\n",
    "print('yX*5 = \\n', 5*yX)\n",
    "print()\n",
    "\n",
    "# We print information about yX\n",
    "print('yX has dimensions:', yX.shape)\n",
    "print('yX is an object of type:', type(yX))\n",
    "print('The elements in yX are of type:', yX.dtype)"
   ]
  },
  {
   "cell_type": "code",
   "execution_count": 17,
   "metadata": {},
   "outputs": [
    {
     "name": "stdout",
     "output_type": "stream",
     "text": [
      "\n",
      "Xyy = \n",
      " [[10  0  0  0]\n",
      " [ 0 20  0  0]\n",
      " [ 0  0 30  0]\n",
      " [ 0  0  0 50]]\n",
      "The elements in yX are of type: int32\n",
      "\n"
     ]
    }
   ],
   "source": [
    "# Create a 4 x 4 diagonal matrix that contains the numbers 10,20,30, and 50\n",
    "# on its main diagonal\n",
    "Xyy = np.diag([10,20,30,50])\n",
    "\n",
    "# We print Xyy\n",
    "print()\n",
    "print('Xyy = \\n', Xyy)\n",
    "print('The elements in yX are of type:', Xyy.dtype)\n",
    "print()"
   ]
  },
  {
   "cell_type": "code",
   "execution_count": 18,
   "metadata": {},
   "outputs": [
    {
     "name": "stdout",
     "output_type": "stream",
     "text": [
      "\n",
      "v =  [0 3 6 9]\n",
      "\n",
      "v has dimensions: (4,)\n",
      "v is an object of type: <class 'numpy.ndarray'>\n",
      "The elements in x are of type: int32\n"
     ]
    }
   ],
   "source": [
    "# We create a rank 1 ndarray that has sequential integers from 0 to 9\n",
    "v = np.arange(0,10,3)\n",
    "\n",
    "# We print the ndarray\n",
    "print()\n",
    "print('v = ', v)\n",
    "print()\n",
    "\n",
    "# We print information about the ndarray\n",
    "print('v has dimensions:', v.shape)\n",
    "print('v is an object of type:', type(v))\n",
    "print('The elements in x are of type:', v.dtype) "
   ]
  },
  {
   "cell_type": "code",
   "execution_count": 19,
   "metadata": {},
   "outputs": [
    {
     "name": "stdout",
     "output_type": "stream",
     "text": [
      "\n",
      "xc =  [ 0.    2.78  5.56  8.34 11.12 13.9  16.68 19.46 22.24 25.02]\n",
      "\n",
      "xxc =  [ 0.          2.77777778  5.55555556  8.33333333 11.11111111 13.88888889\n",
      " 16.66666667 19.44444444 22.22222222 25.        ]\n",
      "\n",
      "reshapped_xxc = \n",
      " [[ 0.          2.77777778  5.55555556  8.33333333 11.11111111]\n",
      " [13.88888889 16.66666667 19.44444444 22.22222222 25.        ]]\n",
      "\n",
      "xc has dimensions: (10,)\n",
      "xc is an object of type: <class 'numpy.ndarray'>\n",
      "The elements in xc are of type: float64\n"
     ]
    }
   ],
   "source": [
    "# We create a rank 1 ndarray that has 10 integers evenly spaced between 0 and 25,\n",
    "# with 25 excluded.\n",
    "\n",
    "xc = np.linspace(0,27.8,10, endpoint = False)\n",
    "xxc = np.linspace(0,25,10)\n",
    "reshapped_xxc = xxc.reshape(2,5)\n",
    "\n",
    "# We print the ndarray\n",
    "print()\n",
    "print('xc = ', xc)\n",
    "print()\n",
    "print('xxc = ', xxc)\n",
    "print()\n",
    "print('reshapped_xxc = \\n', reshapped_xxc)\n",
    "print()\n",
    "\n",
    "# We print information about the ndarray\n",
    "print('xc has dimensions:', xc.shape)\n",
    "print('xc is an object of type:', type(xc))\n",
    "print('The elements in xc are of type:', xc.dtype)"
   ]
  },
  {
   "cell_type": "code",
   "execution_count": 30,
   "metadata": {},
   "outputs": [
    {
     "name": "stdout",
     "output_type": "stream",
     "text": [
      "\n",
      "r = \n",
      " [[0.8216873  0.48069928 0.3220153 ]\n",
      " [0.16142093 0.2467995  0.30393086]\n",
      " [0.32850753 0.36561849 0.53496528]]\n",
      "\n",
      "rr = \n",
      " [[4 4 4]\n",
      " [4 4 4]]\n",
      "\n",
      "rrr = \n",
      " [[-1.27732731  1.66277065  2.92243005 ...  2.32224444 -1.78040293\n",
      "   1.83913578]\n",
      " [ 2.37997099  2.52929125  4.15356709 ...  1.8524347  -3.55823325\n",
      "  -0.1570333 ]\n",
      " [ 1.48152603 -1.98454168  1.7455017  ... -4.6305791   2.42763045\n",
      "  -0.28665997]\n",
      " ...\n",
      " [-1.27560129 -0.71575799 -1.4918235  ...  1.75560478  1.27258319\n",
      "  -2.89938975]\n",
      " [ 1.01411528  3.20158552  1.50415357 ...  0.70655045 -0.19239327\n",
      "  -0.37402422]\n",
      " [-0.06594606 -3.05974559  0.30018842 ... -3.25976743 -3.6067442\n",
      "   4.36934522]]\n",
      "\n",
      "r has dimensions: (3, 3)\n",
      "r is an object of type: <class 'numpy.ndarray'>\n",
      "The elements in x are of type: float64\n"
     ]
    }
   ],
   "source": [
    "# We create a 3 x 3 ndarray with random floats in the half-open interval [0.0, 1.0).\n",
    "r = np.random.random((3,3))\n",
    "rr = np.random.randint(4,5,(2,3))\n",
    "rrr = np.random.normal(0,2,(1000,1000))\n",
    "\n",
    "# We print r\n",
    "print()\n",
    "print('r = \\n', r)\n",
    "print()\n",
    "print('rr = \\n', rr)\n",
    "print()\n",
    "print('rrr = \\n', rrr)\n",
    "print()\n",
    "\n",
    "# We print information about X\n",
    "print('r has dimensions:', r.shape)\n",
    "print('r is an object of type:', type(r))\n",
    "print('The elements in x are of type:', r.dtype)"
   ]
  },
  {
   "cell_type": "code",
   "execution_count": 21,
   "metadata": {},
   "outputs": [],
   "source": [
    "def solution(total_lambs):\n",
    "    # Your code here\n",
    "    \n",
    "    temp_total_lambs = total_lambs\n",
    "    \n",
    "    maxi = []\n",
    "    mini = []\n",
    "    \n",
    "    maxi.append(1)\n",
    "    \n",
    "    while temp_total_lambs > 0 and sum(maxi)+maxi[-1]*2 <= total_lambs:\n",
    "        maxi.append(maxi[-1]*2)\n",
    "        temp_total_lambs -= maxi[-1]\n",
    "    \n",
    "    \n",
    "    mini.append(1)\n",
    "    mini.append(1)\n",
    "    \n",
    "    temp_total_lambs = total_lambs\n",
    "    while temp_total_lambs > 0 and sum(mini)+mini[-1]+mini[-2] <= total_lambs:\n",
    "        mini.append(mini[-1]+mini[-2])\n",
    "        temp_total_lambs -=mini[-1]\n",
    "    \n",
    "    return maxi, mini, len(mini) - len(maxi),sum(mini),sum(maxi)"
   ]
  },
  {
   "cell_type": "code",
   "execution_count": 22,
   "metadata": {},
   "outputs": [
    {
     "data": {
      "text/plain": [
       "([1, 2, 4, 8, 16, 32, 64], [1, 1, 2, 3, 5, 8, 13, 21, 34, 55], 3, 143, 127)"
      ]
     },
     "execution_count": 22,
     "metadata": {},
     "output_type": "execute_result"
    }
   ],
   "source": [
    "solution(143)  #1,2,4,8,16,32,64.-->15 // #1,1,2,3,5,8,13,21,34,55"
   ]
  },
  {
   "cell_type": "code",
   "execution_count": null,
   "metadata": {},
   "outputs": [],
   "source": []
  }
 ],
 "metadata": {
  "kernelspec": {
   "display_name": "Python 3",
   "language": "python",
   "name": "python3"
  },
  "language_info": {
   "codemirror_mode": {
    "name": "ipython",
    "version": 3
   },
   "file_extension": ".py",
   "mimetype": "text/x-python",
   "name": "python",
   "nbconvert_exporter": "python",
   "pygments_lexer": "ipython3",
   "version": "3.7.7"
  }
 },
 "nbformat": 4,
 "nbformat_minor": 4
}
